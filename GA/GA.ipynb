{
 "cells": [
  {
   "cell_type": "code",
   "execution_count": 7,
   "metadata": {},
   "outputs": [],
   "source": [
    "import numpy as np\n",
    "import matplotlib.pyplot as plt\n",
    "from matplotlib import cm\n",
    "from mpl_toolkits.mplot3d import Axes3D\n",
    "\n",
    "DNA_SIZE = 24\n",
    "POP_SIZE = 200\n",
    "CROSSOVER_RATE = 0.8\n",
    "MUTATION_RATE = 0.005\n",
    "N_GENERATIONS = 50\n",
    "X_BOUND = [-3, 3]\n",
    "Y_BOUND = [-3, 3]\n",
    "\n",
    "\n",
    "def F(x, y):\n",
    "\treturn 3*(1-x)**2*np.exp(-(x**2)-(y+1)**2)- 10*(x/5 - x**3 - y**5)*np.exp(-x**2-y**2)- 1/3**np.exp(-(x+1)**2 - y**2)\n",
    "\n",
    "def plot_3d(ax):\n",
    "\n",
    "\tX = np.linspace(*X_BOUND, 100)\n",
    "\tY = np.linspace(*Y_BOUND, 100)\n",
    "\tX,Y = np.meshgrid(X, Y)\n",
    "\tZ = F(X, Y)\n",
    "\tax.plot_surface(X,Y,Z,rstride=1,cstride=1,cmap=cm.coolwarm)\n",
    "\tax.set_zlim(-10,10)\n",
    "\tax.set_xlabel('x')\n",
    "\tax.set_ylabel('y')\n",
    "\tax.set_zlabel('z')\n",
    "\tplt.pause(3)\n",
    "\tplt.show()\n",
    "\n",
    "def translateDNA(pop): #pop表示种群矩阵，一行表示一个二进制编码表示的DNA，矩阵的行数为种群数目\n",
    "\tx_pop = pop[:,1::2]#奇数列表示X\n",
    "\ty_pop = pop[:,::2] #偶数列表示y\n",
    "\t\n",
    "\t#pop:(POP_SIZE,DNA_SIZE)*(DNA_SIZE,1) --> (POP_SIZE,1)\n",
    "\tx = x_pop.dot(2**np.arange(DNA_SIZE)[::-1])/float(2**DNA_SIZE-1)*(X_BOUND[1]-X_BOUND[0])+X_BOUND[0]\n",
    "\ty = y_pop.dot(2**np.arange(DNA_SIZE)[::-1])/float(2**DNA_SIZE-1)*(Y_BOUND[1]-Y_BOUND[0])+Y_BOUND[0]\n",
    "\treturn x,y\n",
    "\n",
    "def get_fitness(pop): \n",
    "    x,y = translateDNA(pop)\n",
    "    pred = F(x, y)\n",
    "    return (pred - np.min(pred)) + 1e-3 #减去最小的适应度是为了防止适应度出现负数，通过这一步fitness的范围为[0, np.max(pred)-np.min(pred)],最后在加上一个很小的数防止出现为0的适应度\n",
    "\n",
    "\n",
    "\n",
    "\n",
    "def crossover_and_mutation(pop, CROSSOVER_RATE = 0.8):\n",
    "\tnew_pop = []\n",
    "\tfor father in pop:\t\t#遍历种群中的每一个个体，将该个体作为父亲\n",
    "\t\tchild = father\t\t#孩子先得到父亲的全部基因（这里我把一串二进制串的那些0，1称为基因）\n",
    "\t\tif np.random.rand() < CROSSOVER_RATE:\t\t\t#产生子代时不是必然发生交叉，而是以一定的概率发生交叉\n",
    "\t\t\tmother = pop[np.random.randint(POP_SIZE)]\t#再种群中选择另一个个体，并将该个体作为母亲\n",
    "\t\t\tcross_points = np.random.randint(low=0, high=DNA_SIZE*2)\t#随机产生交叉的点\n",
    "\t\t\tchild[cross_points:] = mother[cross_points:]\t\t#孩子得到位于交叉点后的母亲的基因\n",
    "\t\tmutation(child)\t#每个后代有一定的机率发生变异\n",
    "\t\tnew_pop.append(child)\n",
    "\n",
    "\treturn new_pop\n",
    "\n",
    "def mutation(child, MUTATION_RATE=0.003):\n",
    "\tif np.random.rand() < MUTATION_RATE: \t\t\t\t#以MUTATION_RATE的概率进行变异\n",
    "\t\tmutate_point = np.random.randint(0, DNA_SIZE*2)\t#随机产生一个实数，代表要变异基因的位置\n",
    "\t\tchild[mutate_point] = child[mutate_point]^1 \t#将变异点的二进制为反转\n",
    "\n",
    "def select(pop, fitness):    # nature selection wrt pop's fitness\n",
    "    idx = np.random.choice(np.arange(POP_SIZE), size=POP_SIZE, replace=True,\n",
    "                           p=(fitness)/(fitness.sum()) )\n",
    "    return pop[idx]\n",
    "\n",
    "def print_info(pop):\n",
    "\tfitness = get_fitness(pop)\n",
    "\tmax_fitness_index = np.argmax(fitness)\n",
    "\tprint(\"max_fitness:\", fitness[max_fitness_index])\n",
    "\tx,y = translateDNA(pop)\n",
    "\tprint(\"最优的基因型：\", pop[max_fitness_index])\n",
    "\tprint(\"(x, y):\", (x[max_fitness_index], y[max_fitness_index]))\n",
    "\n",
    "\n",
    "\n",
    "\n"
   ]
  },
  {
   "cell_type": "code",
   "execution_count": 13,
   "metadata": {},
   "outputs": [
    {
     "data": {
      "text/plain": [
       "array([6.40733269e+00, 6.45901834e+00, 8.36399415e+00, 1.02057263e+01,\n",
       "       6.44354367e+00, 6.44747646e+00, 6.54138737e+00, 6.85157312e+00,\n",
       "       5.28012723e+00, 6.98798039e+00, 7.22751388e+00, 6.41080009e+00,\n",
       "       4.54596524e+00, 8.03579964e+00, 7.86095586e+00, 6.44659348e+00,\n",
       "       2.36676664e-01, 6.49276864e+00, 6.53037288e+00, 8.11029196e+00,\n",
       "       7.18186564e+00, 6.24694211e+00, 6.38888572e+00, 6.46288777e+00,\n",
       "       7.10421721e+00, 6.34924884e+00, 6.41004178e+00, 4.68873824e+00,\n",
       "       6.44734965e+00, 5.77977782e+00, 5.18929719e+00, 6.73746031e+00,\n",
       "       6.46231080e+00, 6.30870963e+00, 6.44607127e+00, 1.07299898e+01,\n",
       "       6.74737388e+00, 6.40079471e+00, 7.76108826e+00, 8.20892553e+00,\n",
       "       6.51030125e+00, 6.44767674e+00, 4.38462797e+00, 1.40735374e+01,\n",
       "       6.84973309e+00, 6.44827267e+00, 6.44987645e+00, 7.34035794e+00,\n",
       "       6.47501567e+00, 5.49693096e+00, 6.64809354e+00, 6.43606267e+00,\n",
       "       4.56488274e+00, 6.37592486e+00, 9.63660499e+00, 6.99264712e+00,\n",
       "       5.69960756e+00, 7.92476401e+00, 7.44183154e+00, 7.54469537e+00,\n",
       "       5.59944851e+00, 6.45697981e+00, 6.70833240e+00, 4.36050191e+00,\n",
       "       6.34564204e+00, 6.37281344e+00, 6.32301288e+00, 7.12874060e+00,\n",
       "       8.86903378e+00, 6.44403999e+00, 7.48427370e+00, 5.07260278e+00,\n",
       "       6.50728518e+00, 5.17451500e+00, 8.97363274e+00, 6.65621582e+00,\n",
       "       6.39810735e+00, 7.09954509e+00, 6.52018018e+00, 9.72933356e+00,\n",
       "       6.45188473e+00, 6.44355992e+00, 6.48678659e+00, 6.45749570e+00,\n",
       "       9.87595386e+00, 6.44761057e+00, 6.45252195e+00, 5.90952802e+00,\n",
       "       6.26424356e+00, 2.63974816e+00, 7.74891428e+00, 6.44607127e+00,\n",
       "       7.36232152e+00, 7.25468389e+00, 6.79486565e+00, 2.59565405e+00,\n",
       "       5.34415262e+00, 6.46976543e+00, 6.25734146e+00, 6.76512828e+00,\n",
       "       7.70489767e+00, 6.36048061e+00, 7.38059652e+00, 6.44642083e+00,\n",
       "       6.63328823e+00, 6.59637552e+00, 6.51259688e+00, 9.91283832e+00,\n",
       "       9.10457877e+00, 6.66384356e+00, 2.44914108e+00, 3.36260396e+00,\n",
       "       6.04272961e+00, 9.70493543e+00, 8.37399359e+00, 6.41746354e+00,\n",
       "       8.60309036e+00, 8.98709890e+00, 1.09641374e+01, 6.53586732e+00,\n",
       "       6.49493926e+00, 6.49480672e+00, 6.37281344e+00, 7.71714649e+00,\n",
       "       7.92205316e+00, 6.68586799e+00, 7.50235804e+00, 6.46362204e+00,\n",
       "       6.89881997e+00, 5.35144183e+00, 6.55410730e+00, 1.35700587e+01,\n",
       "       6.44031919e+00, 7.30208424e+00, 4.48761381e+00, 6.42497795e+00,\n",
       "       6.40564739e+00, 6.42649699e+00, 6.45020823e+00, 4.90232290e+00,\n",
       "       7.46252066e+00, 6.40930186e+00, 6.45683512e+00, 6.39512590e+00,\n",
       "       6.26091297e+00, 7.09599214e+00, 7.67739283e+00, 6.25147794e+00,\n",
       "       6.36004925e+00, 6.45265785e+00, 6.38823284e+00, 4.94943608e+00,\n",
       "       6.44648524e+00, 8.76228279e+00, 6.12120782e+00, 8.82690829e+00,\n",
       "       6.73602832e+00, 3.36260396e+00, 8.09244819e+00, 1.00000000e-03,\n",
       "       6.29612811e+00, 3.20985540e+00, 6.43604760e+00, 6.46771336e+00,\n",
       "       6.47249675e+00, 9.62945865e-01, 6.44754713e+00, 8.44137933e+00,\n",
       "       8.74944129e+00, 6.44940835e+00, 5.92873089e+00, 7.90181132e-01,\n",
       "       2.72717139e+00, 7.85127767e+00, 9.13431123e+00, 1.13226639e+01,\n",
       "       1.16686418e+01, 4.89244242e+00, 8.86903378e+00, 9.95639181e+00,\n",
       "       6.81340864e+00, 6.54793779e+00, 7.04660107e+00, 3.97938720e+00,\n",
       "       9.58327757e+00, 1.40735374e+01, 6.44832196e+00, 8.20104584e+00,\n",
       "       7.34549297e+00, 6.44662931e+00, 6.44900082e+00, 6.41669013e+00,\n",
       "       7.41824192e+00, 1.14825487e+01, 6.65122772e+00, 6.25382775e+00,\n",
       "       5.49821494e+00, 1.12669475e+01, 6.45075350e+00, 6.84997215e+00])"
      ]
     },
     "execution_count": 13,
     "metadata": {},
     "output_type": "execute_result"
    }
   ],
   "source": [
    "pop = np.random.randint(2, size=(POP_SIZE, DNA_SIZE*2)) #matrix (POP_SIZE, DNA_SIZE)\n",
    "x,y = translateDNA(pop)\n",
    "pop = np.array(crossover_and_mutation(pop, CROSSOVER_RATE))\n",
    "fitness = get_fitness(pop)\n",
    "pop = select(pop, fitness) #选择生成新的种群\n"
   ]
  },
  {
   "cell_type": "code",
   "execution_count": 3,
   "metadata": {},
   "outputs": [
    {
     "data": {
      "text/plain": [
       "<Figure size 640x480 with 0 Axes>"
      ]
     },
     "metadata": {},
     "output_type": "display_data"
    },
    {
     "name": "stdout",
     "output_type": "stream",
     "text": [
      "max_fitness: 0.001992084018738737\n",
      "最优的基因型： [1 0 1 1 0 1 0 1 0 1 0 1 1 1 1 1 0 0 0 0 1 1 1 1 0 1 1 1 1 1 1 1 1 0 0 1 1\n",
      " 0 0 1 1 0 0 1 0 0 1 0]\n",
      "(x, y): (-0.017639459230867516, 1.575408612216032)\n"
     ]
    }
   ],
   "source": [
    "fig = plt.figure()\n",
    "ax = Axes3D(fig)\t\n",
    "plt.ion()#将画图模式改为交互模式，程序遇到plt.show不会暂停，而是继续执行\n",
    "plot_3d(ax)\n",
    "\n",
    "pop = np.random.randint(2, size=(POP_SIZE, DNA_SIZE*2)) #matrix (POP_SIZE, DNA_SIZE)\n",
    "for _ in range(N_GENERATIONS):#迭代N代\n",
    "    x,y = translateDNA(pop)\n",
    "    if 'sca' in locals(): \n",
    "        sca.remove()\n",
    "    sca = ax.scatter(x, y, F(x,y), c='black', marker='o')\n",
    "    plt.show()\n",
    "    plt.pause(0.1)\n",
    "    pop = np.array(crossover_and_mutation(pop, CROSSOVER_RATE))\n",
    "    #F_values = F(translateDNA(pop)[0], translateDNA(pop)[1])#x, y --> Z matrix\n",
    "    fitness = get_fitness(pop)\n",
    "    pop = select(pop, fitness) #选择生成新的种群\n",
    "\n",
    "print_info(pop)\n",
    "plt.ioff()\n",
    "plot_3d(ax)"
   ]
  },
  {
   "cell_type": "code",
   "execution_count": 17,
   "metadata": {},
   "outputs": [
    {
     "data": {
      "text/plain": [
       "array([[1, 0, 0, ..., 0, 2, 0],\n",
       "       [1, 0, 0, ..., 1, 2, 1],\n",
       "       [1, 1, 1, ..., 0, 1, 0],\n",
       "       ...,\n",
       "       [2, 0, 0, ..., 0, 1, 2],\n",
       "       [2, 2, 1, ..., 2, 1, 0],\n",
       "       [0, 1, 2, ..., 0, 2, 2]])"
      ]
     },
     "execution_count": 17,
     "metadata": {},
     "output_type": "execute_result"
    }
   ],
   "source": [
    "pop = np.random.randint(2, size=(POP_SIZE, DNA_SIZE * 2))  # matrix (POP_SIZE, DNA_SIZE)\n",
    "pop"
   ]
  },
  {
   "cell_type": "code",
   "execution_count": 58,
   "metadata": {},
   "outputs": [
    {
     "name": "stdout",
     "output_type": "stream",
     "text": [
      "[1 1 0 0 0 1 0 0 0 0 1 1 1 1 0 0 1 1 1 1 1 1 1 0 1 0 1 1 1 0 0 0 1 0 0 0 0\n",
      " 1 1 0 1 1 0 0 1 0 1 1]\n",
      "==\n",
      "[1 1 0 0 0 1 0 0 0 0 1 1 1 1 0 0 1 1 1 0 1 1 1 0 1 0 1 1 1 0 0 0 1 0 0 0 0\n",
      " 1 1 0 1 1 0 0 1 0 1 1]\n",
      "[1 0 1 1 1 0 0 0]\n",
      "[1 0 1 0 0 0 1 0]\n",
      "[0 0 0 1 1 1 1 1]\n",
      "[0 0 0 1 1 0 0 0]\n",
      "[0 1 1 1 1 0 1 1]\n",
      "[1 1 1 0 0 0 1 1]\n"
     ]
    }
   ],
   "source": [
    "\n",
    "a = pop[1,:]\n",
    "print(a)\n",
    "print('==')\n",
    "mutation(a,0.99)\n",
    "print(a)\n",
    "print(a[0::6])\n",
    "print(a[1::6])\n",
    "print(a[2::6])\n",
    "print(a[3::6])\n",
    "print(a[4::6])\n",
    "print(a[5::6])\n"
   ]
  },
  {
   "cell_type": "code",
   "execution_count": 6,
   "metadata": {},
   "outputs": [
    {
     "data": {
      "text/plain": [
       "<Figure size 640x480 with 0 Axes>"
      ]
     },
     "metadata": {},
     "output_type": "display_data"
    }
   ],
   "source": [
    "plt.figure()\n",
    "plt.show()"
   ]
  }
 ],
 "metadata": {
  "kernelspec": {
   "display_name": "Python 3.9.16 ('GYM')",
   "language": "python",
   "name": "python3"
  },
  "language_info": {
   "codemirror_mode": {
    "name": "ipython",
    "version": 3
   },
   "file_extension": ".py",
   "mimetype": "text/x-python",
   "name": "python",
   "nbconvert_exporter": "python",
   "pygments_lexer": "ipython3",
   "version": "3.9.16"
  },
  "orig_nbformat": 4,
  "vscode": {
   "interpreter": {
    "hash": "885ba80e3279e9342e7dd7c1f03a1cf54dcbcf219785bf65aec8a278e13e1341"
   }
  }
 },
 "nbformat": 4,
 "nbformat_minor": 2
}
