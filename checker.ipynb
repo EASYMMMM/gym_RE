{
 "cells": [
  {
   "cell_type": "markdown",
   "metadata": {},
   "source": [
    "# 检查强化学习控制器model"
   ]
  },
  {
   "cell_type": "code",
   "execution_count": 7,
   "metadata": {},
   "outputs": [],
   "source": [
    "# ------- 来自于mujoco150在win+py3.9下的矫情的要求 --------\n",
    "# 手动添加mujoco路径\n",
    "import os\n",
    "from getpass import getuser\n",
    "user_id = getuser()\n",
    "os.add_dll_directory(f\"C://Users//{user_id}//.mujoco//mujoco200//bin\")\n",
    "os.add_dll_directory(f\"C://Users//{user_id}//.mujoco//mujoco-py-2.0.2.0//mujoco_py\")\n",
    "# -------------------------------------------------------\n",
    "import time\n",
    "import argparse\n",
    "import sys\n",
    "import gym_custom_env       # 注册自定义环境\n",
    "import gym\n",
    "import numpy as np\n",
    "import pybullet_envs\n",
    "from stable_baselines3 import SAC, TD3, PPO\n",
    "from mujoco_py.generated import const\n",
    "from collections import deque"
   ]
  },
  {
   "cell_type": "code",
   "execution_count": 8,
   "metadata": {},
   "outputs": [
    {
     "name": "stdout",
     "output_type": "stream",
     "text": [
      "============ HUMANOID CUSTOM ENV ============\n",
      "Wrapping the env with a `Monitor` wrapper\n",
      "Wrapping the env in a DummyVecEnv.\n",
      "Wrapping the env with a `Monitor` wrapper\n",
      "Wrapping the env in a DummyVecEnv.\n"
     ]
    }
   ],
   "source": [
    "env = gym.make('HumanoidCustomEnv-v0')\n",
    "#env.render(mode=\"human\")\n",
    "save_path = \"sb3model/HumanoidCustomEnv-v0/2e6_t4_sac_HumanoidCustomEnv-v0/best_model.zip\"\n",
    "\n",
    "sac_model = SAC.load(save_path, env=env)\n",
    "ppo_model = PPO.load('sb3model/HumanoidCustomEnv-v0/2e7_t10_cpu6_ppo_HumanoidCustomEnv-v0/best_model.zip',env=env)"
   ]
  },
  {
   "cell_type": "code",
   "execution_count": 9,
   "metadata": {},
   "outputs": [
    {
     "data": {
      "text/plain": [
       "SACPolicy(\n",
       "  (actor): Actor(\n",
       "    (features_extractor): FlattenExtractor(\n",
       "      (flatten): Flatten(start_dim=1, end_dim=-1)\n",
       "    )\n",
       "    (latent_pi): Sequential(\n",
       "      (0): Linear(in_features=294, out_features=256, bias=True)\n",
       "      (1): ReLU()\n",
       "      (2): Linear(in_features=256, out_features=256, bias=True)\n",
       "      (3): ReLU()\n",
       "    )\n",
       "    (mu): Linear(in_features=256, out_features=17, bias=True)\n",
       "    (log_std): Linear(in_features=256, out_features=17, bias=True)\n",
       "  )\n",
       "  (critic): ContinuousCritic(\n",
       "    (features_extractor): FlattenExtractor(\n",
       "      (flatten): Flatten(start_dim=1, end_dim=-1)\n",
       "    )\n",
       "    (qf0): Sequential(\n",
       "      (0): Linear(in_features=311, out_features=256, bias=True)\n",
       "      (1): ReLU()\n",
       "      (2): Linear(in_features=256, out_features=256, bias=True)\n",
       "      (3): ReLU()\n",
       "      (4): Linear(in_features=256, out_features=1, bias=True)\n",
       "    )\n",
       "    (qf1): Sequential(\n",
       "      (0): Linear(in_features=311, out_features=256, bias=True)\n",
       "      (1): ReLU()\n",
       "      (2): Linear(in_features=256, out_features=256, bias=True)\n",
       "      (3): ReLU()\n",
       "      (4): Linear(in_features=256, out_features=1, bias=True)\n",
       "    )\n",
       "  )\n",
       "  (critic_target): ContinuousCritic(\n",
       "    (features_extractor): FlattenExtractor(\n",
       "      (flatten): Flatten(start_dim=1, end_dim=-1)\n",
       "    )\n",
       "    (qf0): Sequential(\n",
       "      (0): Linear(in_features=311, out_features=256, bias=True)\n",
       "      (1): ReLU()\n",
       "      (2): Linear(in_features=256, out_features=256, bias=True)\n",
       "      (3): ReLU()\n",
       "      (4): Linear(in_features=256, out_features=1, bias=True)\n",
       "    )\n",
       "    (qf1): Sequential(\n",
       "      (0): Linear(in_features=311, out_features=256, bias=True)\n",
       "      (1): ReLU()\n",
       "      (2): Linear(in_features=256, out_features=256, bias=True)\n",
       "      (3): ReLU()\n",
       "      (4): Linear(in_features=256, out_features=1, bias=True)\n",
       "    )\n",
       "  )\n",
       ")"
      ]
     },
     "execution_count": 9,
     "metadata": {},
     "output_type": "execute_result"
    }
   ],
   "source": [
    "# 手动设置policy_kwargs=dict(net_arch=[256, 256])的sac策略网络\n",
    "sac_model.policy"
   ]
  },
  {
   "cell_type": "code",
   "execution_count": 10,
   "metadata": {},
   "outputs": [
    {
     "data": {
      "text/plain": [
       "ActorCriticPolicy(\n",
       "  (features_extractor): FlattenExtractor(\n",
       "    (flatten): Flatten(start_dim=1, end_dim=-1)\n",
       "  )\n",
       "  (mlp_extractor): MlpExtractor(\n",
       "    (shared_net): Sequential(\n",
       "      (0): Linear(in_features=294, out_features=256, bias=True)\n",
       "      (1): Tanh()\n",
       "      (2): Linear(in_features=256, out_features=256, bias=True)\n",
       "      (3): Tanh()\n",
       "    )\n",
       "    (policy_net): Sequential()\n",
       "    (value_net): Sequential()\n",
       "  )\n",
       "  (action_net): Linear(in_features=256, out_features=17, bias=True)\n",
       "  (value_net): Linear(in_features=256, out_features=1, bias=True)\n",
       ")"
      ]
     },
     "execution_count": 10,
     "metadata": {},
     "output_type": "execute_result"
    }
   ],
   "source": [
    "# 手动设置policy_kwargs=dict(net_arch=[256, 256])的PPO策略网络\n",
    "ppo_model.policy"
   ]
  },
  {
   "cell_type": "code",
   "execution_count": 11,
   "metadata": {},
   "outputs": [
    {
     "name": "stdout",
     "output_type": "stream",
     "text": [
      "Wrapping the env with a `Monitor` wrapper\n",
      "Wrapping the env in a DummyVecEnv.\n"
     ]
    },
    {
     "data": {
      "text/plain": [
       "ActorCriticPolicy(\n",
       "  (features_extractor): FlattenExtractor(\n",
       "    (flatten): Flatten(start_dim=1, end_dim=-1)\n",
       "  )\n",
       "  (mlp_extractor): MlpExtractor(\n",
       "    (shared_net): Sequential()\n",
       "    (policy_net): Sequential(\n",
       "      (0): Linear(in_features=294, out_features=64, bias=True)\n",
       "      (1): Tanh()\n",
       "      (2): Linear(in_features=64, out_features=64, bias=True)\n",
       "      (3): Tanh()\n",
       "    )\n",
       "    (value_net): Sequential(\n",
       "      (0): Linear(in_features=294, out_features=64, bias=True)\n",
       "      (1): Tanh()\n",
       "      (2): Linear(in_features=64, out_features=64, bias=True)\n",
       "      (3): Tanh()\n",
       "    )\n",
       "  )\n",
       "  (action_net): Linear(in_features=64, out_features=17, bias=True)\n",
       "  (value_net): Linear(in_features=64, out_features=1, bias=True)\n",
       ")"
      ]
     },
     "execution_count": 11,
     "metadata": {},
     "output_type": "execute_result"
    }
   ],
   "source": [
    "# PPO的默认策略网络\n",
    "default_ppo_model = PPO.load('sb3model/HumanoidCustomEnv-v0/2e6_t4_ppo_HumanoidCustomEnv-v0.zip',env=env)\n",
    "default_ppo_model.policy"
   ]
  },
  {
   "cell_type": "code",
   "execution_count": 13,
   "metadata": {},
   "outputs": [
    {
     "name": "stdout",
     "output_type": "stream",
     "text": [
      "Wrapping the env with a `Monitor` wrapper\n",
      "Wrapping the env in a DummyVecEnv.\n"
     ]
    },
    {
     "data": {
      "text/plain": [
       "SACPolicy(\n",
       "  (actor): Actor(\n",
       "    (features_extractor): FlattenExtractor(\n",
       "      (flatten): Flatten(start_dim=1, end_dim=-1)\n",
       "    )\n",
       "    (latent_pi): Sequential(\n",
       "      (0): Linear(in_features=294, out_features=256, bias=True)\n",
       "      (1): ReLU()\n",
       "      (2): Linear(in_features=256, out_features=256, bias=True)\n",
       "      (3): ReLU()\n",
       "    )\n",
       "    (mu): Linear(in_features=256, out_features=17, bias=True)\n",
       "    (log_std): Linear(in_features=256, out_features=17, bias=True)\n",
       "  )\n",
       "  (critic): ContinuousCritic(\n",
       "    (features_extractor): FlattenExtractor(\n",
       "      (flatten): Flatten(start_dim=1, end_dim=-1)\n",
       "    )\n",
       "    (qf0): Sequential(\n",
       "      (0): Linear(in_features=311, out_features=256, bias=True)\n",
       "      (1): ReLU()\n",
       "      (2): Linear(in_features=256, out_features=256, bias=True)\n",
       "      (3): ReLU()\n",
       "      (4): Linear(in_features=256, out_features=1, bias=True)\n",
       "    )\n",
       "    (qf1): Sequential(\n",
       "      (0): Linear(in_features=311, out_features=256, bias=True)\n",
       "      (1): ReLU()\n",
       "      (2): Linear(in_features=256, out_features=256, bias=True)\n",
       "      (3): ReLU()\n",
       "      (4): Linear(in_features=256, out_features=1, bias=True)\n",
       "    )\n",
       "  )\n",
       "  (critic_target): ContinuousCritic(\n",
       "    (features_extractor): FlattenExtractor(\n",
       "      (flatten): Flatten(start_dim=1, end_dim=-1)\n",
       "    )\n",
       "    (qf0): Sequential(\n",
       "      (0): Linear(in_features=311, out_features=256, bias=True)\n",
       "      (1): ReLU()\n",
       "      (2): Linear(in_features=256, out_features=256, bias=True)\n",
       "      (3): ReLU()\n",
       "      (4): Linear(in_features=256, out_features=1, bias=True)\n",
       "    )\n",
       "    (qf1): Sequential(\n",
       "      (0): Linear(in_features=311, out_features=256, bias=True)\n",
       "      (1): ReLU()\n",
       "      (2): Linear(in_features=256, out_features=256, bias=True)\n",
       "      (3): ReLU()\n",
       "      (4): Linear(in_features=256, out_features=1, bias=True)\n",
       "    )\n",
       "  )\n",
       ")"
      ]
     },
     "execution_count": 13,
     "metadata": {},
     "output_type": "execute_result"
    }
   ],
   "source": [
    "# SAC的默认策略网络\n",
    "default_sac_model = SAC.load('sb3model/HumanoidCustomEnv-v0/2e6_t0_sac_HumanoidCustomEnv-v0.zip',env=env)\n",
    "default_sac_model.policy\n",
    "default_sac_model.predict"
   ]
  },
  {
   "cell_type": "code",
   "execution_count": 1,
   "metadata": {},
   "outputs": [],
   "source": [
    "import numpy as np\n",
    "from scipy.spatial.transform import Rotation as R\n"
   ]
  },
  {
   "cell_type": "code",
   "execution_count": 15,
   "metadata": {},
   "outputs": [
    {
     "name": "stdout",
     "output_type": "stream",
     "text": [
      "0.27460000000151463\n",
      "[-3.50e-01  1.23e-06  4.18e-08  3.90e-01]\n",
      "[[ 1.00000000e+00 -3.25420248e-06  3.38725419e-06]\n",
      " [-3.01673707e-06  1.07793154e-01  9.94173343e-01]\n",
      " [-3.60036417e-06 -9.94173343e-01  1.07793154e-01]]\n",
      "[3.38725419e-06 9.94173343e-01 1.07793154e-01]\n",
      "1.0\n",
      "0.10779315367197961\n"
     ]
    }
   ],
   "source": [
    "pos = np.array([0 , 1, 0, -0.35, 1.23e-06, 4.18e-08, 0.39,1,2])\n",
    "quatanion = pos[3:7]\n",
    "sum = np.linalg.norm(quatanion)\n",
    "print(np.sum(quatanion*quatanion))\n",
    "print(quatanion)\n",
    "Rm = R.from_quat(quatanion)  # Rotation matrix\n",
    "rotation_matrix = Rm.as_matrix()\n",
    "print(rotation_matrix)\n",
    "vertical_direction = np.array([0, 0, 1])\n",
    "body_z_axis = rotation_matrix.dot(vertical_direction)\n",
    "print(body_z_axis)\n",
    "sum = np.linalg.norm(body_z_axis)\n",
    "print(sum)\n",
    "# 计算z轴方向向量与竖直向上方向向量的点积\n",
    "dot_product = np.dot(body_z_axis, vertical_direction)\n",
    "print(dot_product)"
   ]
  },
  {
   "cell_type": "markdown",
   "metadata": {},
   "source": [
    "# 检查XML"
   ]
  },
  {
   "cell_type": "code",
   "execution_count": 5,
   "metadata": {},
   "outputs": [],
   "source": [
    "import os\n",
    "from getpass import getuser\n",
    "user_id = getuser()\n",
    "os.add_dll_directory(f\"C://Users//{user_id}//.mujoco//mujoco200//bin\")\n",
    "os.add_dll_directory(f\"C://Users//{user_id}//.mujoco//mujoco-py-2.0.2.0//mujoco_py\")\n",
    "# -------------------------------------------------------\n",
    "import time\n",
    "import argparse\n",
    "import sys\n",
    "sys.path.append(os.path.dirname(os.path.dirname(os.path.realpath('checker.ipynb'))))\n",
    "import gym_custom_env       # 注册自定义环境\n",
    "import gym\n",
    "import numpy as np\n",
    "import pybullet_envs\n",
    "from gym_custom_env.generateXML import HumanoidXML\n",
    "import mujoco_py\n",
    "import numpy as np\n",
    "from mujoco_py.generated import const\n",
    "from scipy.spatial.transform import Rotation as R\n",
    "\n",
    "from stable_baselines3 import SAC, TD3, PPO"
   ]
  },
  {
   "cell_type": "code",
   "execution_count": null,
   "metadata": {},
   "outputs": [],
   "source": [
    "def quaternion_to_rotation_matrix(q):  # x, y ,z ,w\n",
    "    rot_matrix = np.array(\n",
    "        [[1.0 - 2 * (q[1] * q[1] + q[2] * q[2]), 2 * (q[0] * q[1] - q[3] * q[2]), 2 * (q[3] * q[1] + q[0] * q[2])],\n",
    "         [2 * (q[0] * q[1] + q[3] * q[2]), 1.0 - 2 * (q[0] * q[0] + q[2] * q[2]), 2 * (q[1] * q[2] - q[3] * q[0])],\n",
    "         [2 * (q[0] * q[2] - q[3] * q[1]), 2 * (q[1] * q[2] + q[3] * q[0]), 1.0 - 2 * (q[0] * q[0] + q[1] * q[1])]],\n",
    "        dtype=q.dtype)\n",
    "    return rot_matrix\n",
    "\n",
    "# params list\n",
    "paramas = { 'torso_width':0.5,\n",
    "            'init_position':[0,0,2.5],\n",
    "            'pelvis_width':0.2,\n",
    "            'upper_arm_lenth':0.31,\n",
    "            'lower_arm_lenth':0.4,\n",
    "            'shin_lenth':0.5,\n",
    "            'torso_height':0.6,\n",
    "            }\n",
    "\n",
    "# 生成XML文件\n",
    "t = HumanoidXML()\n",
    "t.write_xml(file_path=\"ee.xml\")\n",
    "\n",
    "\n",
    "# 更新XML文件\n",
    "t.set_params(paramas)\n",
    "t.update_xml(file_path='ee.xml')\n",
    "\n",
    "# 加载 XML 文件\n",
    "# model = mujoco_py.load_model_from_path(\"gym_custom_env\\\\assets\\\\humanoid_custom.xml\")\n",
    "# model = mujoco_py.load_model_from_path(\"e.xml\")\n",
    "model = mujoco_py.load_model_from_path(\"humanoid.xml\")\n",
    "# 创建仿真环境和渲染器\n",
    "sim = mujoco_py.MjSim(model)\n",
    "viewer = mujoco_py.MjViewer(sim)\n",
    "\n",
    "# 设置仿真时间步长和仿真时长\n",
    "dt = 0.01\n",
    "timesteps = 500000\n",
    "viewer.render()\n",
    "\n",
    "ctrl = np.zeros(17)\n",
    "ctrl[0] = +0.00  # right shoulder 2\n",
    "ctrl[15] = -0.00  # left shoulder 2\n",
    "ctrl[14] = -0.00  # left shoulder 1\n",
    "ctrl[11] = +0.00  # right shoulder 1\n",
    "ctrl[10] = -0.00 # left knee\n",
    "sim.data.ctrl[:] = ctrl\n",
    "j = 0\n",
    "k = 0\n",
    "# 运行仿真并在每个时间步骤中进行渲染\n",
    "for i in range(timesteps):\n",
    "    sim.step()\n",
    "    viewer.render()\n",
    "\n",
    "    sim.data.ctrl[:] = ctrl\n",
    "\n",
    "    # 打印质心相对位置\n",
    "    torso_z = sim.data.qpos[2]\n",
    "    #print(torso_z) \n",
    "    viewer.add_marker(pos=[0,0,torso_z], size=np.array([0.05, 0.05, 0.05]), rgba=np.array([1.0, 0, 0.0, 1]), type=const.GEOM_SPHERE)\n",
    "    torso_x = sim.data.qpos[0]\n",
    "    #print(torso_x)\n",
    "    viewer.add_marker(pos=[torso_x,1,torso_z], size=np.array([0.05, 0.05, 0.05]), rgba=np.array([1.0, 0, 0.0, 1]), type=const.GEOM_SPHERE)\n",
    "\n",
    "    # 一些乱七八遭的参考点\n",
    "    viewer.add_marker(pos=[0,-0.14,0.4], size=np.array([0.1, 0.1, 0.1]), rgba=np.array([0, 0, 1.0, 1]), type=const.GEOM_SPHERE)\n",
    "    viewer.add_marker(pos=[-1,0,1.7], size=np.array([0.01, 0.01, 0.01]), rgba=np.array([0, 0, 1.0, 1]), type=const.GEOM_SPHERE)\n",
    "    viewer.add_marker(pos=[0,0,0.4], size=np.array([0.1, 0.1, 0.1]), rgba=np.array([0, 0, 1.0, 1]), type=const.GEOM_SPHERE)\n",
    "    \n",
    "    # 计算torso坐标系竖直分量\n",
    "    quatanion = sim.data.qpos[3:7]\n",
    "    Rm = R.from_quat(quatanion)  # Rotation matrix\n",
    "    #rotation_matrix = Rm.as_matrix()\n",
    "    rotation_matrix=quaternion_to_rotation_matrix(quatanion)\n",
    "    vertical_direction = np.array([0, 0, 1])\n",
    "    body_z_axis = rotation_matrix.dot(vertical_direction)\n",
    "    dot_product = np.dot(body_z_axis, vertical_direction)\n",
    "\n",
    "    print('==================================')\n",
    "    print(sim.data.contact.flat.copy())\n",
    "    \n",
    "\n",
    "# 关闭仿真环境和渲染器\n",
    "viewer.close()\n",
    "sim.close()\n",
    "\n"
   ]
  }
 ],
 "metadata": {
  "kernelspec": {
   "display_name": "Python 3.9.16 ('GYM')",
   "language": "python",
   "name": "python3"
  },
  "language_info": {
   "codemirror_mode": {
    "name": "ipython",
    "version": 3
   },
   "file_extension": ".py",
   "mimetype": "text/x-python",
   "name": "python",
   "nbconvert_exporter": "python",
   "pygments_lexer": "ipython3",
   "version": "3.9.16"
  },
  "orig_nbformat": 4,
  "vscode": {
   "interpreter": {
    "hash": "885ba80e3279e9342e7dd7c1f03a1cf54dcbcf219785bf65aec8a278e13e1341"
   }
  }
 },
 "nbformat": 4,
 "nbformat_minor": 2
}
