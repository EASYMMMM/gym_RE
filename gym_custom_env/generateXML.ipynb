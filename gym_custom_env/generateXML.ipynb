{
 "cells": [
  {
   "cell_type": "code",
   "execution_count": 1,
   "metadata": {},
   "outputs": [
    {
     "name": "stdout",
     "output_type": "stream",
     "text": [
      "Creating window glfw\n"
     ]
    },
    {
     "ename": "AttributeError",
     "evalue": "'MjViewer' object has no attribute 'close'",
     "output_type": "error",
     "traceback": [
      "\u001b[1;31m---------------------------------------------------------------------------\u001b[0m",
      "\u001b[1;31mAttributeError\u001b[0m                            Traceback (most recent call last)",
      "Cell \u001b[1;32mIn[1], line 40\u001b[0m\n\u001b[0;32m     37\u001b[0m     viewer\u001b[38;5;241m.\u001b[39mrender()\n\u001b[0;32m     39\u001b[0m \u001b[38;5;66;03m# 关闭仿真环境和渲染器\u001b[39;00m\n\u001b[1;32m---> 40\u001b[0m \u001b[43mviewer\u001b[49m\u001b[38;5;241;43m.\u001b[39;49m\u001b[43mclose\u001b[49m()\n\u001b[0;32m     41\u001b[0m sim\u001b[38;5;241m.\u001b[39mclose()\n",
      "\u001b[1;31mAttributeError\u001b[0m: 'MjViewer' object has no attribute 'close'"
     ]
    },
    {
     "ename": "",
     "evalue": "",
     "output_type": "error",
     "traceback": [
      "\u001b[1;31mThe Kernel crashed while executing code in the the current cell or a previous cell. Please review the code in the cell(s) to identify a possible cause of the failure. Click <a href='https://aka.ms/vscodeJupyterKernelCrash'>here</a> for more info. View Jupyter <a href='command:jupyter.viewOutput'>log</a> for further details."
     ]
    }
   ],
   "source": [
    "import generateXML as gxml\n",
    "from generateXML import HumanoidXML\n",
    "\n",
    "t = HumanoidXML()\n",
    "t.write_xml(file_path=\"e.xml\")\n",
    "# ------- 来自于mujoco150在win+py3.9下的矫情的要求 --------\n",
    "# 手动添加mujoco路径\n",
    "import os\n",
    "from getpass import getuser\n",
    "import time\n",
    "user_id = getuser()\n",
    "os.add_dll_directory(f\"C://Users//{user_id}//.mujoco//mujoco200//bin\")\n",
    "os.add_dll_directory(f\"C://Users//{user_id}//.mujoco//mujoco-py-2.0.2.0//mujoco_py\")\n",
    "# -------------------------------------------------------\n",
    "\n",
    "import mujoco_py\n",
    "import numpy as np\n",
    "# 加载 XML 文件\n",
    "# model = mujoco_py.load_model_from_path(\"gym_custom_env\\\\assets\\\\humanoid_custom.xml\")\n",
    "model = mujoco_py.load_model_from_path(\"e.xml\")\n",
    "\n",
    "# 创建仿真环境和渲染器\n",
    "sim = mujoco_py.MjSim(model)\n",
    "viewer = mujoco_py.MjViewer(sim)\n",
    "\n",
    "# 设置仿真时间步长和仿真时长\n",
    "dt = 0.01\n",
    "timesteps = 5000\n",
    "viewer.render()\n",
    "\n",
    "\"\"\" ctrl = np.zeros(17)\n",
    "ctrl[12] = 0.0\n",
    "sim.data.ctrl[:] = ctrl \"\"\"\n",
    "# 运行仿真并在每个时间步骤中进行渲染\n",
    "for i in range(timesteps):\n",
    "    sim.step()\n",
    "    viewer.render()\n",
    "\n",
    "# 关闭仿真环境和渲染器\n",
    "viewer.close()\n",
    "sim.close()"
   ]
  },
  {
   "cell_type": "code",
   "execution_count": 1,
   "metadata": {},
   "outputs": [],
   "source": [
    "import xml.etree.ElementTree as ET\n",
    "root = ET.Element(\"a\")"
   ]
  },
  {
   "cell_type": "code",
   "execution_count": 2,
   "metadata": {},
   "outputs": [
    {
     "ename": "NameError",
     "evalue": "name 'root' is not defined",
     "output_type": "error",
     "traceback": [
      "\u001b[1;31m---------------------------------------------------------------------------\u001b[0m",
      "\u001b[1;31mNameError\u001b[0m                                 Traceback (most recent call last)",
      "Cell \u001b[1;32mIn[2], line 1\u001b[0m\n\u001b[1;32m----> 1\u001b[0m \u001b[38;5;28mprint\u001b[39m(\u001b[38;5;28mtype\u001b[39m(\u001b[43mroot\u001b[49m))\n",
      "\u001b[1;31mNameError\u001b[0m: name 'root' is not defined"
     ]
    }
   ],
   "source": [
    "print(type(root))"
   ]
  },
  {
   "cell_type": "code",
   "execution_count": 7,
   "metadata": {},
   "outputs": [
    {
     "name": "stdout",
     "output_type": "stream",
     "text": [
      "f\n",
      "b\n",
      "100\n"
     ]
    }
   ],
   "source": [
    "class Parent():\n",
    "    def __init__(self, root = 'c'):\n",
    "        self.root = root\n",
    "        self.c = 100\n",
    "        pass\n",
    "    pass\n",
    "\n",
    "class Child(Parent):\n",
    "    def __init__(self, r = 'b'):\n",
    "        super(Child,self).__init__(r)\n",
    "\n",
    "A = Parent('f')\n",
    "print(A.root)\n",
    "B = Child()\n",
    "print(B.root)\n",
    "print(B.c)\n",
    "        "
   ]
  },
  {
   "cell_type": "code",
   "execution_count": 1,
   "metadata": {},
   "outputs": [
    {
     "ename": "NameError",
     "evalue": "name 'Parent' is not defined",
     "output_type": "error",
     "traceback": [
      "\u001b[1;31m---------------------------------------------------------------------------\u001b[0m",
      "\u001b[1;31mNameError\u001b[0m                                 Traceback (most recent call last)",
      "Cell \u001b[1;32mIn[1], line 1\u001b[0m\n\u001b[1;32m----> 1\u001b[0m A \u001b[38;5;241m=\u001b[39m \u001b[43mParent\u001b[49m(\u001b[38;5;124m'\u001b[39m\u001b[38;5;124mf\u001b[39m\u001b[38;5;124m'\u001b[39m)\n\u001b[0;32m      2\u001b[0m \u001b[38;5;28mprint\u001b[39m(A\u001b[38;5;241m.\u001b[39mroot)\n\u001b[0;32m      3\u001b[0m B \u001b[38;5;241m=\u001b[39m Child()\n",
      "\u001b[1;31mNameError\u001b[0m: name 'Parent' is not defined"
     ]
    }
   ],
   "source": [
    "A = Parent('f')\n",
    "print(A.root)\n",
    "B = Child()\n",
    "print(B.root)"
   ]
  },
  {
   "cell_type": "code",
   "execution_count": 29,
   "metadata": {},
   "outputs": [],
   "source": [
    "def list2str( l):\n",
    "    '''\n",
    "    将输入的列表转换为带空格的字符串\n",
    "    '''\n",
    "    if type(l)!= list:\n",
    "        return str(l)\n",
    "    str_list = [str(num) for num in l] \n",
    "    result_str = \" \".join(str_list) \n",
    "    return result_str"
   ]
  },
  {
   "cell_type": "code",
   "execution_count": 34,
   "metadata": {},
   "outputs": [
    {
     "name": "stdout",
     "output_type": "stream",
     "text": [
      "False\n"
     ]
    }
   ],
   "source": [
    "a = [1 ,2]\n",
    "b = [2,3]\n",
    "c = a ==None or b == None\n",
    "print(c)"
   ]
  },
  {
   "cell_type": "code",
   "execution_count": 32,
   "metadata": {},
   "outputs": [
    {
     "name": "stdout",
     "output_type": "stream",
     "text": [
      "==\n",
      "123\n",
      "<class 'str'>\n"
     ]
    }
   ],
   "source": [
    "a = 123\n",
    "from typing import Any, Dict, Optional, Type, Union, List\n",
    "class A ():\n",
    "    def __init__(self):\n",
    "        pass\n",
    "    def convert(self,a:List[Union[float,int]]):\n",
    "        print('==')\n",
    "        return list2str(a)\n",
    "c = A()\n",
    "b = c.convert(a)\n",
    "print(b)\n",
    "print(type(b))"
   ]
  }
 ],
 "metadata": {
  "kernelspec": {
   "display_name": "Python 3.9.16 ('GYM')",
   "language": "python",
   "name": "python3"
  },
  "language_info": {
   "codemirror_mode": {
    "name": "ipython",
    "version": 3
   },
   "file_extension": ".py",
   "mimetype": "text/x-python",
   "name": "python",
   "nbconvert_exporter": "python",
   "pygments_lexer": "ipython3",
   "version": "3.9.16"
  },
  "orig_nbformat": 4,
  "vscode": {
   "interpreter": {
    "hash": "885ba80e3279e9342e7dd7c1f03a1cf54dcbcf219785bf65aec8a278e13e1341"
   }
  }
 },
 "nbformat": 4,
 "nbformat_minor": 2
}
