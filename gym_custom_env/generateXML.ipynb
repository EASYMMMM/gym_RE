{
 "cells": [
  {
   "cell_type": "code",
   "execution_count": 53,
   "metadata": {},
   "outputs": [],
   "source": [
    "import generateXML as gxml\n",
    "from generateXML import XMLTree\n",
    "\n",
    "def prettyXml(element, indent = '\\t', newline='\\n', level = 0):\n",
    "    '''\n",
    "    从CSDN搬的美化XML文档格式的函数。\n",
    "    '''\n",
    "    # 判断element是否有子元素\n",
    "    if element:\n",
    " \n",
    "        # 如果element的text没有内容\n",
    "        if element.text == None or element.text.isspace():\n",
    "            element.text = newline + indent * (level + 1)\n",
    "        else:\n",
    "            element.text = newline + indent * (level + 1) + element.text.strip() + newline + indent * (level + 1)\n",
    " \n",
    "    # 此处两行如果把注释去掉，Element的text也会另起一行 \n",
    "    #else:\n",
    "        #element.text = newline + indent * (level + 1) + element.text.strip() + newline + indent * level\n",
    " \n",
    "    temp = list(element) # 将elemnt转成list\n",
    "    for subelement in temp:\n",
    "        # 如果不是list的最后一个元素，说明下一个行是同级别元素的起始，缩进应一致\n",
    "        if temp.index(subelement) < (len(temp) - 1):\n",
    "            subelement.tail = newline + indent * (level + 1)\n",
    "        else:  # 如果是list的最后一个元素， 说明下一行是母元素的结束，缩进应该少一个\n",
    "            subelement.tail = newline + indent * level   \n",
    " \n",
    "        # 对子元素进行递归操作 \n",
    "        prettyXml(subelement, indent, newline, level = level + 1)\n",
    "\n",
    "\n",
    "t = XMLTree()"
   ]
  },
  {
   "cell_type": "code",
   "execution_count": 1,
   "metadata": {},
   "outputs": [],
   "source": [
    "import xml.etree.ElementTree as ET\n",
    "root = ET.Element(\"a\")"
   ]
  },
  {
   "cell_type": "code",
   "execution_count": 2,
   "metadata": {},
   "outputs": [
    {
     "ename": "NameError",
     "evalue": "name 'root' is not defined",
     "output_type": "error",
     "traceback": [
      "\u001b[1;31m---------------------------------------------------------------------------\u001b[0m",
      "\u001b[1;31mNameError\u001b[0m                                 Traceback (most recent call last)",
      "Cell \u001b[1;32mIn[2], line 1\u001b[0m\n\u001b[1;32m----> 1\u001b[0m \u001b[38;5;28mprint\u001b[39m(\u001b[38;5;28mtype\u001b[39m(\u001b[43mroot\u001b[49m))\n",
      "\u001b[1;31mNameError\u001b[0m: name 'root' is not defined"
     ]
    }
   ],
   "source": [
    "print(type(root))"
   ]
  },
  {
   "cell_type": "code",
   "execution_count": 7,
   "metadata": {},
   "outputs": [
    {
     "name": "stdout",
     "output_type": "stream",
     "text": [
      "f\n",
      "b\n",
      "100\n"
     ]
    }
   ],
   "source": [
    "class Parent():\n",
    "    def __init__(self, root = 'c'):\n",
    "        self.root = root\n",
    "        self.c = 100\n",
    "        pass\n",
    "    pass\n",
    "\n",
    "class Child(Parent):\n",
    "    def __init__(self, r = 'b'):\n",
    "        super(Child,self).__init__(r)\n",
    "\n",
    "A = Parent('f')\n",
    "print(A.root)\n",
    "B = Child()\n",
    "print(B.root)\n",
    "print(B.c)\n",
    "        "
   ]
  },
  {
   "cell_type": "code",
   "execution_count": 1,
   "metadata": {},
   "outputs": [
    {
     "ename": "NameError",
     "evalue": "name 'Parent' is not defined",
     "output_type": "error",
     "traceback": [
      "\u001b[1;31m---------------------------------------------------------------------------\u001b[0m",
      "\u001b[1;31mNameError\u001b[0m                                 Traceback (most recent call last)",
      "Cell \u001b[1;32mIn[1], line 1\u001b[0m\n\u001b[1;32m----> 1\u001b[0m A \u001b[38;5;241m=\u001b[39m \u001b[43mParent\u001b[49m(\u001b[38;5;124m'\u001b[39m\u001b[38;5;124mf\u001b[39m\u001b[38;5;124m'\u001b[39m)\n\u001b[0;32m      2\u001b[0m \u001b[38;5;28mprint\u001b[39m(A\u001b[38;5;241m.\u001b[39mroot)\n\u001b[0;32m      3\u001b[0m B \u001b[38;5;241m=\u001b[39m Child()\n",
      "\u001b[1;31mNameError\u001b[0m: name 'Parent' is not defined"
     ]
    }
   ],
   "source": [
    "A = Parent('f')\n",
    "print(A.root)\n",
    "B = Child()\n",
    "print(B.root)"
   ]
  },
  {
   "cell_type": "code",
   "execution_count": 4,
   "metadata": {},
   "outputs": [
    {
     "ename": "AssertionError",
     "evalue": "sphere类geom缺少参数pos",
     "output_type": "error",
     "traceback": [
      "\u001b[1;31m---------------------------------------------------------------------------\u001b[0m",
      "\u001b[1;31mAssertionError\u001b[0m                            Traceback (most recent call last)",
      "Cell \u001b[1;32mIn[4], line 2\u001b[0m\n\u001b[0;32m      1\u001b[0m pos \u001b[38;5;241m=\u001b[39m \u001b[38;5;28;01mNone\u001b[39;00m\n\u001b[1;32m----> 2\u001b[0m \u001b[38;5;28;01massert\u001b[39;00m pos , \u001b[38;5;124m\"\u001b[39m\u001b[38;5;124msphere类geom缺少参数pos\u001b[39m\u001b[38;5;124m\"\u001b[39m\n\u001b[0;32m      3\u001b[0m \u001b[38;5;28mprint\u001b[39m(\u001b[38;5;124m'\u001b[39m\u001b[38;5;124myes\u001b[39m\u001b[38;5;124m'\u001b[39m)\n",
      "\u001b[1;31mAssertionError\u001b[0m: sphere类geom缺少参数pos"
     ]
    }
   ],
   "source": [
    "pos = None\n",
    "assert pos , \"sphere类geom缺少参数pos\"\n",
    "print('yes')"
   ]
  },
  {
   "cell_type": "code",
   "execution_count": 29,
   "metadata": {},
   "outputs": [],
   "source": [
    "def list2str( l):\n",
    "    '''\n",
    "    将输入的列表转换为带空格的字符串\n",
    "    '''\n",
    "    if type(l)!= list:\n",
    "        return str(l)\n",
    "    str_list = [str(num) for num in l] \n",
    "    result_str = \" \".join(str_list) \n",
    "    return result_str"
   ]
  },
  {
   "cell_type": "code",
   "execution_count": 34,
   "metadata": {},
   "outputs": [
    {
     "name": "stdout",
     "output_type": "stream",
     "text": [
      "False\n"
     ]
    }
   ],
   "source": [
    "a = [1 ,2]\n",
    "b = [2,3]\n",
    "c = a ==None or b == None\n",
    "print(c)"
   ]
  },
  {
   "cell_type": "code",
   "execution_count": 32,
   "metadata": {},
   "outputs": [
    {
     "name": "stdout",
     "output_type": "stream",
     "text": [
      "==\n",
      "123\n",
      "<class 'str'>\n"
     ]
    }
   ],
   "source": [
    "a = 123\n",
    "from typing import Any, Dict, Optional, Type, Union, List\n",
    "class A ():\n",
    "    def __init__(self):\n",
    "        pass\n",
    "    def convert(self,a:List[Union[float,int]]):\n",
    "        print('==')\n",
    "        return list2str(a)\n",
    "c = A()\n",
    "b = c.convert(a)\n",
    "print(b)\n",
    "print(type(b))"
   ]
  }
 ],
 "metadata": {
  "kernelspec": {
   "display_name": "Python 3.9.16 ('GYM')",
   "language": "python",
   "name": "python3"
  },
  "language_info": {
   "codemirror_mode": {
    "name": "ipython",
    "version": 3
   },
   "file_extension": ".py",
   "mimetype": "text/x-python",
   "name": "python",
   "nbconvert_exporter": "python",
   "pygments_lexer": "ipython3",
   "version": "3.9.16"
  },
  "orig_nbformat": 4,
  "vscode": {
   "interpreter": {
    "hash": "885ba80e3279e9342e7dd7c1f03a1cf54dcbcf219785bf65aec8a278e13e1341"
   }
  }
 },
 "nbformat": 4,
 "nbformat_minor": 2
}
