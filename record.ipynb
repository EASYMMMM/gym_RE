{
 "cells": [
  {
   "cell_type": "code",
   "execution_count": 1,
   "metadata": {},
   "outputs": [
    {
     "name": "stderr",
     "output_type": "stream",
     "text": [
      "e:\\ANACONDA\\envs\\GYM\\lib\\site-packages\\tqdm\\auto.py:22: TqdmWarning: IProgress not found. Please update jupyter and ipywidgets. See https://ipywidgets.readthedocs.io/en/stable/user_install.html\n",
      "  from .autonotebook import tqdm as notebook_tqdm\n"
     ]
    }
   ],
   "source": [
    "# ------- 来自于mujoco150在win+py3.9下的矫情的要求 --------\n",
    "# 手动添加mujoco路径\n",
    "import os\n",
    "from getpass import getuser\n",
    "user_id = getuser()\n",
    "os.add_dll_directory(f\"C://Users//{user_id}//.mujoco//mujoco200//bin\")\n",
    "os.add_dll_directory(f\"C://Users//{user_id}//.mujoco//mujoco-py-2.0.2.0//mujoco_py\")\n",
    "# -------------------------------------------------------\n",
    "import time\n",
    "import argparse\n",
    "import sys\n",
    "import gym_custom_env       # 注册自定义环境\n",
    "import gym\n",
    "import numpy as np\n",
    "import pybullet_envs\n",
    "import mujoco_py\n",
    "\n",
    "from stable_baselines3 import SAC, TD3, PPO"
   ]
  },
  {
   "cell_type": "code",
   "execution_count": null,
   "metadata": {},
   "outputs": [],
   "source": [
    "env_id = 'HumanoidCustomEnv-v0'\n",
    "terrain = 'steps'\n",
    "# Create an env similar to the training env\n",
    "env = gym.make(env_id, terrain_type=terrain)\n",
    "#evo_s1\n",
    "params = {   'thigh_lenth':0.3321,           # 大腿长 0.34\n",
    "            'shin_lenth':0.2968,              # 小腿长 0.3\n",
    "            'upper_arm_lenth':0.2922,        # 大臂长 0.2771\n",
    "            'lower_arm_lenth':0.2747,        # 小臂长 0.2944\n",
    "            'foot_lenth':0.2013,       }     # 脚长   0.18\n",
    "env.update_xml_model(params)\n",
    "# Enable GUI\n",
    "\n",
    "env.render(mode=\"human\")\n",
    "\n",
    "\n",
    "print('load from:')\n",
    "#save_path ='sb3model/default_evo_exp/flatfloor_pretrain_1e6_s2.zip'\n",
    "#save_path = 'sb3model\\\\default_evo_exp\\\\flatfloor_noevo_s3.zip'\n",
    "#save_path = 'sb3model\\\\default_evo_exp\\\\flatfloor_evo_s3.zip'\n",
    "save_path = 'sb3model\\\\default_evo_exp\\\\flatfloor_evo_punish_s3.zip'\n",
    "\n",
    "#save_path = 'sb3model\\\\steps_evo_exp\\\\steps_noevo_s1.zip'\n",
    "#save_path = 'sb3model\\\\steps_evo_exp\\\\steps_evo_punish_s1.zip'\n",
    "#save_path = 'sb3model\\\\steps_evo_exp\\\\steps_evo_s1.zip'\n",
    "\n",
    "print(save_path)\n",
    "# Load the saved model\n",
    "model = SAC.load(save_path, env=env)\n",
    "\n",
    "\n",
    "print(\"==============================\")\n",
    "print(f\"Method: SAC\")\n",
    "# print(f\"gradient steps:{model.gradient_steps}\")\n",
    "print(\"model path:\"+save_path)\n",
    "print(\"==============================\")"
   ]
  }
 ],
 "metadata": {
  "kernelspec": {
   "display_name": "Python 3.9.16 ('GYM')",
   "language": "python",
   "name": "python3"
  },
  "language_info": {
   "codemirror_mode": {
    "name": "ipython",
    "version": 3
   },
   "file_extension": ".py",
   "mimetype": "text/x-python",
   "name": "python",
   "nbconvert_exporter": "python",
   "pygments_lexer": "ipython3",
   "version": "3.9.16"
  },
  "orig_nbformat": 4,
  "vscode": {
   "interpreter": {
    "hash": "885ba80e3279e9342e7dd7c1f03a1cf54dcbcf219785bf65aec8a278e13e1341"
   }
  }
 },
 "nbformat": 4,
 "nbformat_minor": 2
}
